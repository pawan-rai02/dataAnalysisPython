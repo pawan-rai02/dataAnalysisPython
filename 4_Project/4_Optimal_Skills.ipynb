{
 "cells": [
  {
   "cell_type": "markdown",
   "id": "00691fd4",
   "metadata": {},
   "source": [
    "# What is the most optimal skill to learn for Data Engineer\n",
    "## Methodology\n",
    "\n",
    "- 1. Group Skills to determine median salary and likelihood of being in posting\n",
    "- 2. Visualize median salary vs percent skill demand\n",
    "- 3. (Optional) Determine if certain technologies are more prevalent"
   ]
  },
  {
   "cell_type": "code",
   "execution_count": 1,
   "id": "f6280c6b",
   "metadata": {},
   "outputs": [],
   "source": [
    "import pandas as pd\n",
    "from datasets import load_dataset\n",
    "import matplotlib.pyplot as plt\n",
    "import ast\n",
    "import seaborn as sns\n",
    "\n",
    "#loading dataset\n",
    "dataset= load_dataset('lukebarousse/data_jobs')\n",
    "df= dataset['train'].to_pandas()\n",
    "\n",
    "#Data cleaning\n",
    "df['job_posted_date'] = pd.to_datetime(df['job_posted_date'])\n",
    "df['job_skills'] = df['job_skills'].apply(lambda x: ast.literal_eval(x) if pd.notna(x) else x)\n"
   ]
  },
  {
   "cell_type": "code",
   "execution_count": 3,
   "id": "c9cffcdd",
   "metadata": {},
   "outputs": [
    {
     "data": {
      "application/vnd.microsoft.datawrangler.viewer.v0+json": {
       "columns": [
        {
         "name": "index",
         "rawType": "int64",
         "type": "integer"
        },
        {
         "name": "job_title_short",
         "rawType": "object",
         "type": "string"
        },
        {
         "name": "job_title",
         "rawType": "object",
         "type": "string"
        },
        {
         "name": "job_location",
         "rawType": "object",
         "type": "string"
        },
        {
         "name": "job_via",
         "rawType": "object",
         "type": "string"
        },
        {
         "name": "job_schedule_type",
         "rawType": "object",
         "type": "string"
        },
        {
         "name": "job_work_from_home",
         "rawType": "bool",
         "type": "boolean"
        },
        {
         "name": "search_location",
         "rawType": "object",
         "type": "string"
        },
        {
         "name": "job_posted_date",
         "rawType": "datetime64[ns]",
         "type": "datetime"
        },
        {
         "name": "job_no_degree_mention",
         "rawType": "bool",
         "type": "boolean"
        },
        {
         "name": "job_health_insurance",
         "rawType": "bool",
         "type": "boolean"
        },
        {
         "name": "job_country",
         "rawType": "object",
         "type": "string"
        },
        {
         "name": "salary_rate",
         "rawType": "object",
         "type": "unknown"
        },
        {
         "name": "salary_year_avg",
         "rawType": "float64",
         "type": "float"
        },
        {
         "name": "salary_hour_avg",
         "rawType": "float64",
         "type": "float"
        },
        {
         "name": "company_name",
         "rawType": "object",
         "type": "string"
        },
        {
         "name": "job_skills",
         "rawType": "object",
         "type": "unknown"
        },
        {
         "name": "job_type_skills",
         "rawType": "object",
         "type": "unknown"
        }
       ],
       "ref": "9136ebe8-36f1-42c0-bbc5-f7dbd30a7d63",
       "rows": [
        [
         "3",
         "Data Engineer",
         "LEAD ENGINEER - PRINCIPAL ANALYST - PRINCIPAL ENGINEER -  DATA...",
         "San Antonio, TX",
         "via Diversity.com",
         "Full-time",
         "False",
         "Texas, United States",
         "2023-07-04 13:01:41",
         "True",
         "False",
         "United States",
         null,
         null,
         null,
         "Southwest Research Institute",
         "['python', 'c++', 'java', 'matlab', 'aws', 'tensorflow', 'keras', 'pytorch']",
         "{'cloud': ['aws'], 'libraries': ['tensorflow', 'keras', 'pytorch'], 'programming': ['python', 'c++', 'java', 'matlab']}"
        ],
        [
         "5",
         "Data Engineer",
         "GCP Data Engineer",
         "Anywhere",
         "via ZipRecruiter",
         "Contractor and Temp work",
         "True",
         "Georgia",
         "2023-11-07 14:01:59",
         "False",
         "False",
         "United States",
         null,
         null,
         null,
         "smart folks inc",
         "['python', 'sql', 'gcp']",
         "{'cloud': ['gcp'], 'programming': ['python', 'sql']}"
        ],
        [
         "11",
         "Data Engineer",
         "Data Engineer",
         "Colorado Springs, CO   (+3 others)",
         "via The Muse",
         "Full-time",
         "False",
         "Texas, United States",
         "2023-11-03 13:06:51",
         "False",
         "True",
         "United States",
         null,
         null,
         null,
         "Philips",
         "['python', 'qlik']",
         "{'analyst_tools': ['qlik'], 'programming': ['python']}"
        ],
        [
         "26",
         "Data Engineer",
         "Data Engineer",
         "United States",
         "via LinkedIn",
         "Full-time",
         "False",
         "Georgia",
         "2023-09-15 13:56:18",
         "True",
         "False",
         "United States",
         null,
         null,
         null,
         "Infinite Computer Solutions",
         null,
         null
        ],
        [
         "27",
         "Data Engineer",
         "Principal Data Engineer (Lead), Knowledge Graphs and Data Semantics",
         "San Francisco, CA",
         "via LinkedIn",
         "Full-time",
         "False",
         "Georgia",
         "2023-02-18 13:31:24",
         "False",
         "False",
         "United States",
         null,
         null,
         null,
         "Altos Labs",
         "['python', 'r', 'java']",
         "{'programming': ['python', 'r', 'java']}"
        ]
       ],
       "shape": {
        "columns": 17,
        "rows": 5
       }
      },
      "text/html": [
       "<div>\n",
       "<style scoped>\n",
       "    .dataframe tbody tr th:only-of-type {\n",
       "        vertical-align: middle;\n",
       "    }\n",
       "\n",
       "    .dataframe tbody tr th {\n",
       "        vertical-align: top;\n",
       "    }\n",
       "\n",
       "    .dataframe thead th {\n",
       "        text-align: right;\n",
       "    }\n",
       "</style>\n",
       "<table border=\"1\" class=\"dataframe\">\n",
       "  <thead>\n",
       "    <tr style=\"text-align: right;\">\n",
       "      <th></th>\n",
       "      <th>job_title_short</th>\n",
       "      <th>job_title</th>\n",
       "      <th>job_location</th>\n",
       "      <th>job_via</th>\n",
       "      <th>job_schedule_type</th>\n",
       "      <th>job_work_from_home</th>\n",
       "      <th>search_location</th>\n",
       "      <th>job_posted_date</th>\n",
       "      <th>job_no_degree_mention</th>\n",
       "      <th>job_health_insurance</th>\n",
       "      <th>job_country</th>\n",
       "      <th>salary_rate</th>\n",
       "      <th>salary_year_avg</th>\n",
       "      <th>salary_hour_avg</th>\n",
       "      <th>company_name</th>\n",
       "      <th>job_skills</th>\n",
       "      <th>job_type_skills</th>\n",
       "    </tr>\n",
       "  </thead>\n",
       "  <tbody>\n",
       "    <tr>\n",
       "      <th>3</th>\n",
       "      <td>Data Engineer</td>\n",
       "      <td>LEAD ENGINEER - PRINCIPAL ANALYST - PRINCIPAL ...</td>\n",
       "      <td>San Antonio, TX</td>\n",
       "      <td>via Diversity.com</td>\n",
       "      <td>Full-time</td>\n",
       "      <td>False</td>\n",
       "      <td>Texas, United States</td>\n",
       "      <td>2023-07-04 13:01:41</td>\n",
       "      <td>True</td>\n",
       "      <td>False</td>\n",
       "      <td>United States</td>\n",
       "      <td>None</td>\n",
       "      <td>NaN</td>\n",
       "      <td>NaN</td>\n",
       "      <td>Southwest Research Institute</td>\n",
       "      <td>[python, c++, java, matlab, aws, tensorflow, k...</td>\n",
       "      <td>{'cloud': ['aws'], 'libraries': ['tensorflow',...</td>\n",
       "    </tr>\n",
       "    <tr>\n",
       "      <th>5</th>\n",
       "      <td>Data Engineer</td>\n",
       "      <td>GCP Data Engineer</td>\n",
       "      <td>Anywhere</td>\n",
       "      <td>via ZipRecruiter</td>\n",
       "      <td>Contractor and Temp work</td>\n",
       "      <td>True</td>\n",
       "      <td>Georgia</td>\n",
       "      <td>2023-11-07 14:01:59</td>\n",
       "      <td>False</td>\n",
       "      <td>False</td>\n",
       "      <td>United States</td>\n",
       "      <td>None</td>\n",
       "      <td>NaN</td>\n",
       "      <td>NaN</td>\n",
       "      <td>smart folks inc</td>\n",
       "      <td>[python, sql, gcp]</td>\n",
       "      <td>{'cloud': ['gcp'], 'programming': ['python', '...</td>\n",
       "    </tr>\n",
       "    <tr>\n",
       "      <th>11</th>\n",
       "      <td>Data Engineer</td>\n",
       "      <td>Data Engineer</td>\n",
       "      <td>Colorado Springs, CO   (+3 others)</td>\n",
       "      <td>via The Muse</td>\n",
       "      <td>Full-time</td>\n",
       "      <td>False</td>\n",
       "      <td>Texas, United States</td>\n",
       "      <td>2023-11-03 13:06:51</td>\n",
       "      <td>False</td>\n",
       "      <td>True</td>\n",
       "      <td>United States</td>\n",
       "      <td>None</td>\n",
       "      <td>NaN</td>\n",
       "      <td>NaN</td>\n",
       "      <td>Philips</td>\n",
       "      <td>[python, qlik]</td>\n",
       "      <td>{'analyst_tools': ['qlik'], 'programming': ['p...</td>\n",
       "    </tr>\n",
       "    <tr>\n",
       "      <th>26</th>\n",
       "      <td>Data Engineer</td>\n",
       "      <td>Data Engineer</td>\n",
       "      <td>United States</td>\n",
       "      <td>via LinkedIn</td>\n",
       "      <td>Full-time</td>\n",
       "      <td>False</td>\n",
       "      <td>Georgia</td>\n",
       "      <td>2023-09-15 13:56:18</td>\n",
       "      <td>True</td>\n",
       "      <td>False</td>\n",
       "      <td>United States</td>\n",
       "      <td>None</td>\n",
       "      <td>NaN</td>\n",
       "      <td>NaN</td>\n",
       "      <td>Infinite Computer Solutions</td>\n",
       "      <td>None</td>\n",
       "      <td>None</td>\n",
       "    </tr>\n",
       "    <tr>\n",
       "      <th>27</th>\n",
       "      <td>Data Engineer</td>\n",
       "      <td>Principal Data Engineer (Lead), Knowledge Grap...</td>\n",
       "      <td>San Francisco, CA</td>\n",
       "      <td>via LinkedIn</td>\n",
       "      <td>Full-time</td>\n",
       "      <td>False</td>\n",
       "      <td>Georgia</td>\n",
       "      <td>2023-02-18 13:31:24</td>\n",
       "      <td>False</td>\n",
       "      <td>False</td>\n",
       "      <td>United States</td>\n",
       "      <td>None</td>\n",
       "      <td>NaN</td>\n",
       "      <td>NaN</td>\n",
       "      <td>Altos Labs</td>\n",
       "      <td>[python, r, java]</td>\n",
       "      <td>{'programming': ['python', 'r', 'java']}</td>\n",
       "    </tr>\n",
       "  </tbody>\n",
       "</table>\n",
       "</div>"
      ],
      "text/plain": [
       "   job_title_short                                          job_title  \\\n",
       "3    Data Engineer  LEAD ENGINEER - PRINCIPAL ANALYST - PRINCIPAL ...   \n",
       "5    Data Engineer                                  GCP Data Engineer   \n",
       "11   Data Engineer                                      Data Engineer   \n",
       "26   Data Engineer                                      Data Engineer   \n",
       "27   Data Engineer  Principal Data Engineer (Lead), Knowledge Grap...   \n",
       "\n",
       "                          job_location            job_via  \\\n",
       "3                      San Antonio, TX  via Diversity.com   \n",
       "5                             Anywhere   via ZipRecruiter   \n",
       "11  Colorado Springs, CO   (+3 others)       via The Muse   \n",
       "26                       United States       via LinkedIn   \n",
       "27                   San Francisco, CA       via LinkedIn   \n",
       "\n",
       "           job_schedule_type  job_work_from_home       search_location  \\\n",
       "3                  Full-time               False  Texas, United States   \n",
       "5   Contractor and Temp work                True               Georgia   \n",
       "11                 Full-time               False  Texas, United States   \n",
       "26                 Full-time               False               Georgia   \n",
       "27                 Full-time               False               Georgia   \n",
       "\n",
       "       job_posted_date  job_no_degree_mention  job_health_insurance  \\\n",
       "3  2023-07-04 13:01:41                   True                 False   \n",
       "5  2023-11-07 14:01:59                  False                 False   \n",
       "11 2023-11-03 13:06:51                  False                  True   \n",
       "26 2023-09-15 13:56:18                   True                 False   \n",
       "27 2023-02-18 13:31:24                  False                 False   \n",
       "\n",
       "      job_country salary_rate  salary_year_avg  salary_hour_avg  \\\n",
       "3   United States        None              NaN              NaN   \n",
       "5   United States        None              NaN              NaN   \n",
       "11  United States        None              NaN              NaN   \n",
       "26  United States        None              NaN              NaN   \n",
       "27  United States        None              NaN              NaN   \n",
       "\n",
       "                    company_name  \\\n",
       "3   Southwest Research Institute   \n",
       "5                smart folks inc   \n",
       "11                       Philips   \n",
       "26   Infinite Computer Solutions   \n",
       "27                    Altos Labs   \n",
       "\n",
       "                                           job_skills  \\\n",
       "3   [python, c++, java, matlab, aws, tensorflow, k...   \n",
       "5                                  [python, sql, gcp]   \n",
       "11                                     [python, qlik]   \n",
       "26                                               None   \n",
       "27                                  [python, r, java]   \n",
       "\n",
       "                                      job_type_skills  \n",
       "3   {'cloud': ['aws'], 'libraries': ['tensorflow',...  \n",
       "5   {'cloud': ['gcp'], 'programming': ['python', '...  \n",
       "11  {'analyst_tools': ['qlik'], 'programming': ['p...  \n",
       "26                                               None  \n",
       "27           {'programming': ['python', 'r', 'java']}  "
      ]
     },
     "execution_count": 3,
     "metadata": {},
     "output_type": "execute_result"
    }
   ],
   "source": [
    "df_DE_US = df[(df['job_country'] == 'United States') &  (df['job_title_short'] == 'Data Engineer')].copy()\n",
    "df_DE_US.head(5)"
   ]
  },
  {
   "cell_type": "code",
   "execution_count": 4,
   "id": "2de544b8",
   "metadata": {},
   "outputs": [
    {
     "data": {
      "application/vnd.microsoft.datawrangler.viewer.v0+json": {
       "columns": [
        {
         "name": "index",
         "rawType": "int64",
         "type": "integer"
        },
        {
         "name": "salary_year_avg",
         "rawType": "float64",
         "type": "float"
        },
        {
         "name": "job_skills",
         "rawType": "object",
         "type": "string"
        }
       ],
       "ref": "c6659fce-d38e-4026-a7fc-2e668476fc9d",
       "rows": [
        [
         "92",
         "120000.0",
         "sql"
        ],
        [
         "92",
         "120000.0",
         "python"
        ],
        [
         "146",
         "129500.0",
         "golang"
        ],
        [
         "146",
         "129500.0",
         "scala"
        ],
        [
         "146",
         "129500.0",
         "python"
        ]
       ],
       "shape": {
        "columns": 2,
        "rows": 5
       }
      },
      "text/html": [
       "<div>\n",
       "<style scoped>\n",
       "    .dataframe tbody tr th:only-of-type {\n",
       "        vertical-align: middle;\n",
       "    }\n",
       "\n",
       "    .dataframe tbody tr th {\n",
       "        vertical-align: top;\n",
       "    }\n",
       "\n",
       "    .dataframe thead th {\n",
       "        text-align: right;\n",
       "    }\n",
       "</style>\n",
       "<table border=\"1\" class=\"dataframe\">\n",
       "  <thead>\n",
       "    <tr style=\"text-align: right;\">\n",
       "      <th></th>\n",
       "      <th>salary_year_avg</th>\n",
       "      <th>job_skills</th>\n",
       "    </tr>\n",
       "  </thead>\n",
       "  <tbody>\n",
       "    <tr>\n",
       "      <th>92</th>\n",
       "      <td>120000.0</td>\n",
       "      <td>sql</td>\n",
       "    </tr>\n",
       "    <tr>\n",
       "      <th>92</th>\n",
       "      <td>120000.0</td>\n",
       "      <td>python</td>\n",
       "    </tr>\n",
       "    <tr>\n",
       "      <th>146</th>\n",
       "      <td>129500.0</td>\n",
       "      <td>golang</td>\n",
       "    </tr>\n",
       "    <tr>\n",
       "      <th>146</th>\n",
       "      <td>129500.0</td>\n",
       "      <td>scala</td>\n",
       "    </tr>\n",
       "    <tr>\n",
       "      <th>146</th>\n",
       "      <td>129500.0</td>\n",
       "      <td>python</td>\n",
       "    </tr>\n",
       "  </tbody>\n",
       "</table>\n",
       "</div>"
      ],
      "text/plain": [
       "     salary_year_avg job_skills\n",
       "92          120000.0        sql\n",
       "92          120000.0     python\n",
       "146         129500.0     golang\n",
       "146         129500.0      scala\n",
       "146         129500.0     python"
      ]
     },
     "execution_count": 4,
     "metadata": {},
     "output_type": "execute_result"
    }
   ],
   "source": [
    "df_DE_US = df_DE_US.dropna(subset= ['salary_year_avg'])\n",
    "df_DE_exploded = df_DE_US.explode('job_skills')\n",
    "df_DE_exploded[['salary_year_avg', 'job_skills']].head(5)"
   ]
  },
  {
   "cell_type": "code",
   "execution_count": 15,
   "id": "617c82e7",
   "metadata": {},
   "outputs": [
    {
     "data": {
      "application/vnd.microsoft.datawrangler.viewer.v0+json": {
       "columns": [
        {
         "name": "job_skills",
         "rawType": "object",
         "type": "string"
        },
        {
         "name": "median_salary",
         "rawType": "float64",
         "type": "float"
        },
        {
         "name": "skill_count",
         "rawType": "int64",
         "type": "integer"
        },
        {
         "name": "skill_percent",
         "rawType": "float64",
         "type": "float"
        }
       ],
       "ref": "118bc532-6ede-470a-944c-c60dfe93ae1f",
       "rows": [
        [
         "sql",
         "125000.0",
         "2110",
         "72.38421955403086"
        ],
        [
         "python",
         "127794.5",
         "2007",
         "68.8507718696398"
        ],
        [
         "aws",
         "131000.0",
         "1313",
         "45.04288164665523"
        ],
        [
         "spark",
         "137410.15625",
         "968",
         "33.20754716981132"
        ],
        [
         "azure",
         "125000.0",
         "961",
         "32.96740994854203"
        ],
        [
         "snowflake",
         "130700.0",
         "765",
         "26.243567753001717"
        ],
        [
         "java",
         "137000.0",
         "732",
         "25.111492281303605"
        ],
        [
         "kafka",
         "145000.0",
         "536",
         "18.387650085763294"
        ],
        [
         "nosql",
         "140000.0",
         "519",
         "17.804459691252145"
        ],
        [
         "redshift",
         "135000.0",
         "514",
         "17.632933104631217"
        ],
        [
         "hadoop",
         "131580.0",
         "511",
         "17.53001715265866"
        ],
        [
         "scala",
         "140000.0",
         "502",
         "17.221269296740996"
        ]
       ],
       "shape": {
        "columns": 3,
        "rows": 12
       }
      },
      "text/html": [
       "<div>\n",
       "<style scoped>\n",
       "    .dataframe tbody tr th:only-of-type {\n",
       "        vertical-align: middle;\n",
       "    }\n",
       "\n",
       "    .dataframe tbody tr th {\n",
       "        vertical-align: top;\n",
       "    }\n",
       "\n",
       "    .dataframe thead th {\n",
       "        text-align: right;\n",
       "    }\n",
       "</style>\n",
       "<table border=\"1\" class=\"dataframe\">\n",
       "  <thead>\n",
       "    <tr style=\"text-align: right;\">\n",
       "      <th></th>\n",
       "      <th>median_salary</th>\n",
       "      <th>skill_count</th>\n",
       "      <th>skill_percent</th>\n",
       "    </tr>\n",
       "    <tr>\n",
       "      <th>job_skills</th>\n",
       "      <th></th>\n",
       "      <th></th>\n",
       "      <th></th>\n",
       "    </tr>\n",
       "  </thead>\n",
       "  <tbody>\n",
       "    <tr>\n",
       "      <th>sql</th>\n",
       "      <td>125000.00000</td>\n",
       "      <td>2110</td>\n",
       "      <td>72.384220</td>\n",
       "    </tr>\n",
       "    <tr>\n",
       "      <th>python</th>\n",
       "      <td>127794.50000</td>\n",
       "      <td>2007</td>\n",
       "      <td>68.850772</td>\n",
       "    </tr>\n",
       "    <tr>\n",
       "      <th>aws</th>\n",
       "      <td>131000.00000</td>\n",
       "      <td>1313</td>\n",
       "      <td>45.042882</td>\n",
       "    </tr>\n",
       "    <tr>\n",
       "      <th>spark</th>\n",
       "      <td>137410.15625</td>\n",
       "      <td>968</td>\n",
       "      <td>33.207547</td>\n",
       "    </tr>\n",
       "    <tr>\n",
       "      <th>azure</th>\n",
       "      <td>125000.00000</td>\n",
       "      <td>961</td>\n",
       "      <td>32.967410</td>\n",
       "    </tr>\n",
       "    <tr>\n",
       "      <th>snowflake</th>\n",
       "      <td>130700.00000</td>\n",
       "      <td>765</td>\n",
       "      <td>26.243568</td>\n",
       "    </tr>\n",
       "    <tr>\n",
       "      <th>java</th>\n",
       "      <td>137000.00000</td>\n",
       "      <td>732</td>\n",
       "      <td>25.111492</td>\n",
       "    </tr>\n",
       "    <tr>\n",
       "      <th>kafka</th>\n",
       "      <td>145000.00000</td>\n",
       "      <td>536</td>\n",
       "      <td>18.387650</td>\n",
       "    </tr>\n",
       "    <tr>\n",
       "      <th>nosql</th>\n",
       "      <td>140000.00000</td>\n",
       "      <td>519</td>\n",
       "      <td>17.804460</td>\n",
       "    </tr>\n",
       "    <tr>\n",
       "      <th>redshift</th>\n",
       "      <td>135000.00000</td>\n",
       "      <td>514</td>\n",
       "      <td>17.632933</td>\n",
       "    </tr>\n",
       "    <tr>\n",
       "      <th>hadoop</th>\n",
       "      <td>131580.00000</td>\n",
       "      <td>511</td>\n",
       "      <td>17.530017</td>\n",
       "    </tr>\n",
       "    <tr>\n",
       "      <th>scala</th>\n",
       "      <td>140000.00000</td>\n",
       "      <td>502</td>\n",
       "      <td>17.221269</td>\n",
       "    </tr>\n",
       "  </tbody>\n",
       "</table>\n",
       "</div>"
      ],
      "text/plain": [
       "            median_salary  skill_count  skill_percent\n",
       "job_skills                                           \n",
       "sql          125000.00000         2110      72.384220\n",
       "python       127794.50000         2007      68.850772\n",
       "aws          131000.00000         1313      45.042882\n",
       "spark        137410.15625          968      33.207547\n",
       "azure        125000.00000          961      32.967410\n",
       "snowflake    130700.00000          765      26.243568\n",
       "java         137000.00000          732      25.111492\n",
       "kafka        145000.00000          536      18.387650\n",
       "nosql        140000.00000          519      17.804460\n",
       "redshift     135000.00000          514      17.632933\n",
       "hadoop       131580.00000          511      17.530017\n",
       "scala        140000.00000          502      17.221269"
      ]
     },
     "execution_count": 15,
     "metadata": {},
     "output_type": "execute_result"
    }
   ],
   "source": [
    "df_DE_skills = df_DE_exploded.groupby('job_skills')['salary_year_avg'].agg(['median', 'count']).sort_values(by='count', ascending=False).head(12)\n",
    "\n",
    "df_DE_skills = df_DE_skills.rename(columns={'median': 'median_salary', 'count': 'skill_count'})\n",
    "\n",
    "DE_job_count = len(df_DE_US)\n",
    "\n",
    "df_DE_skills['skill_percent'] = (df_DE_skills['skill_count'] / DE_job_count) * 100\n",
    "df_DE_skills"
   ]
  },
  {
   "cell_type": "code",
   "execution_count": 16,
   "id": "efb1ba42",
   "metadata": {},
   "outputs": [
    {
     "data": {
      "image/png": "[encoded data removed]",
      "text/plain": [
       "<Figure size 640x480 with 1 Axes>"
      ]
     },
     "metadata": {},
     "output_type": "display_data"
    }
   ],
   "source": [
    "from adjustText import adjust_text\n",
    "\n",
    "plt.scatter(df_DE_skills['skill_percent'], df_DE_skills['median_salary'])\n",
    "plt.xlabel('Percent of Data Engineer Jobs')\n",
    "plt.ylabel('Median Salary ($USD)')  # Assuming this is the label you want for y-axis\n",
    "plt.title('Most Optimal Skills for Data Engineers in the US')\n",
    "\n",
    "# Get current axes, set limits, and format axes\n",
    "ax = plt.gca()\n",
    "ax.yaxis.set_major_formatter(plt.FuncFormatter(lambda y, pos: f'${int(y/1000)}K'))  # Example formatting y-axis\n",
    "\n",
    "# Add labels to points and collect them in a list\n",
    "texts = []\n",
    "for i, txt in enumerate(df_DE_skills.index):\n",
    "    texts.append(plt.text(df_DE_skills['skill_percent'].iloc[i], df_DE_skills['median_salary'].iloc[i], \" \" + txt))\n",
    "\n",
    "# Adjust text to avoid overlap and add arrows\n",
    "adjust_text(texts, arrowprops=dict(arrowstyle='->', color='gray'))\n",
    "\n",
    "plt.show()"
   ]
  },
  {
   "cell_type": "code",
   "execution_count": 17,
   "id": "ae57dba7",
   "metadata": {},
   "outputs": [
    {
     "data": {
      "text/plain": [
       "{'analyst_tools': ['nuix',\n",
       "  'esquisse',\n",
       "  'sheets',\n",
       "  'microstrategy',\n",
       "  'power bi',\n",
       "  'sap',\n",
       "  'word',\n",
       "  'ssrs',\n",
       "  'datarobot',\n",
       "  'spreadsheet',\n",
       "  'qlik',\n",
       "  'msaccess',\n",
       "  'sas',\n",
       "  'dax',\n",
       "  'spss',\n",
       "  'cognos',\n",
       "  'sharepoint',\n",
       "  'outlook',\n",
       "  'powerpoint',\n",
       "  'ms access',\n",
       "  'visio',\n",
       "  'tableau',\n",
       "  'excel',\n",
       "  'splunk',\n",
       "  'powerbi',\n",
       "  'ssis',\n",
       "  'looker',\n",
       "  'alteryx'],\n",
       " 'programming': ['haskell',\n",
       "  'lua',\n",
       "  'r',\n",
       "  'go',\n",
       "  'c++',\n",
       "  'mongo',\n",
       "  'golang',\n",
       "  'crystal',\n",
       "  'ocaml',\n",
       "  'rust',\n",
       "  'clojure',\n",
       "  'javascript',\n",
       "  'nosql',\n",
       "  'c',\n",
       "  'no-sql',\n",
       "  'typescript',\n",
       "  'scala',\n",
       "  'sql',\n",
       "  'powershell',\n",
       "  'vba',\n",
       "  'dart',\n",
       "  'sas',\n",
       "  'objective-c',\n",
       "  'mongodb',\n",
       "  'visual basic',\n",
       "  'sass',\n",
       "  'c#',\n",
       "  'lisp',\n",
       "  'visualbasic',\n",
       "  'perl',\n",
       "  'julia',\n",
       "  'groovy',\n",
       "  'python',\n",
       "  'pascal',\n",
       "  'vb.net',\n",
       "  'assembly',\n",
       "  'swift',\n",
       "  'erlang',\n",
       "  'apl',\n",
       "  'solidity',\n",
       "  'cobol',\n",
       "  'html',\n",
       "  'f#',\n",
       "  't-sql',\n",
       "  'delphi',\n",
       "  'java',\n",
       "  'fortran',\n",
       "  'bash',\n",
       "  'ruby',\n",
       "  'kotlin',\n",
       "  'matlab',\n",
       "  'css',\n",
       "  'php',\n",
       "  'elixir',\n",
       "  'shell'],\n",
       " 'cloud': ['aurora',\n",
       "  'gcp',\n",
       "  'heroku',\n",
       "  'azure',\n",
       "  'bigquery',\n",
       "  'firebase',\n",
       "  'vmware',\n",
       "  'linode',\n",
       "  'openstack',\n",
       "  'aws',\n",
       "  'ovh',\n",
       "  'snowflake',\n",
       "  'databricks',\n",
       "  'watson',\n",
       "  'colocation',\n",
       "  'oracle',\n",
       "  'ibm cloud',\n",
       "  'digitalocean',\n",
       "  'redshift'],\n",
       " 'libraries': ['xamarin',\n",
       "  'rshiny',\n",
       "  'scikit-learn',\n",
       "  'spring',\n",
       "  'qt',\n",
       "  'tidyr',\n",
       "  'jupyter',\n",
       "  'airflow',\n",
       "  'plotly',\n",
       "  'matplotlib',\n",
       "  'tidyverse',\n",
       "  'pytorch',\n",
       "  'pyspark',\n",
       "  'react',\n",
       "  'opencv',\n",
       "  'hugging face',\n",
       "  'mlpack',\n",
       "  'cordova',\n",
       "  'mlr',\n",
       "  'kafka',\n",
       "  'pandas',\n",
       "  'hadoop',\n",
       "  'dplyr',\n",
       "  'ionic',\n",
       "  'flutter',\n",
       "  'numpy',\n",
       "  'capacitor',\n",
       "  'ggplot2',\n",
       "  'spark',\n",
       "  'seaborn',\n",
       "  'nltk',\n",
       "  'mxnet',\n",
       "  'huggingface',\n",
       "  'keras',\n",
       "  'gtx',\n",
       "  'shogun',\n",
       "  'dlib',\n",
       "  'selenium',\n",
       "  'chainer',\n",
       "  'electron',\n",
       "  'theano',\n",
       "  'graphql',\n",
       "  'tensorflow',\n",
       "  'gdpr'],\n",
       " 'other': ['terraform',\n",
       "  'npm',\n",
       "  'kubernetes',\n",
       "  'terminal',\n",
       "  'homebrew',\n",
       "  'jenkins',\n",
       "  'docker',\n",
       "  'unreal',\n",
       "  'github',\n",
       "  'chef',\n",
       "  'atlassian',\n",
       "  'pulumi',\n",
       "  'bitbucket',\n",
       "  'codecommit',\n",
       "  'flow',\n",
       "  'unity',\n",
       "  'puppet',\n",
       "  'git',\n",
       "  'svn',\n",
       "  'gitlab',\n",
       "  'ansible',\n",
       "  'yarn'],\n",
       " 'databases': ['cassandra',\n",
       "  'mariadb',\n",
       "  'firebase',\n",
       "  'neo4j',\n",
       "  'mysql',\n",
       "  'sql server',\n",
       "  'db2',\n",
       "  'couchbase',\n",
       "  'firestore',\n",
       "  'sqlite',\n",
       "  'sqlserver',\n",
       "  'couchdb',\n",
       "  'elasticsearch',\n",
       "  'dynamodb',\n",
       "  'redis',\n",
       "  'mongodb',\n",
       "  'postgresql'],\n",
       " 'os': ['debian',\n",
       "  'wsl',\n",
       "  'unix',\n",
       "  'redhat',\n",
       "  'ubuntu',\n",
       "  'linux',\n",
       "  'macos',\n",
       "  'suse',\n",
       "  'kali',\n",
       "  'centos',\n",
       "  'fedora',\n",
       "  'arch',\n",
       "  'windows'],\n",
       " 'async': ['planner',\n",
       "  'asana',\n",
       "  'notion',\n",
       "  'trello',\n",
       "  'microsoft lists',\n",
       "  'workfront',\n",
       "  'wrike',\n",
       "  'wimi',\n",
       "  'smartsheet',\n",
       "  'confluence',\n",
       "  'clickup',\n",
       "  'monday.com',\n",
       "  'airtable',\n",
       "  'jira',\n",
       "  'dingtalk'],\n",
       " 'webframeworks': ['flask',\n",
       "  'vue',\n",
       "  'fastify',\n",
       "  'asp.netcore',\n",
       "  'laravel',\n",
       "  'nuxt.js',\n",
       "  'rubyon rails',\n",
       "  'fastapi',\n",
       "  'asp.net',\n",
       "  'asp.net core',\n",
       "  'angular.js',\n",
       "  'ember.js',\n",
       "  'django',\n",
       "  'jquery',\n",
       "  'blazor',\n",
       "  'node.js',\n",
       "  'drupal',\n",
       "  'symfony',\n",
       "  'ruby on rails',\n",
       "  'vue.js',\n",
       "  'next.js',\n",
       "  'play framework',\n",
       "  'deno',\n",
       "  'phoenix',\n",
       "  'angular',\n",
       "  'react.js',\n",
       "  'node',\n",
       "  'gatsby',\n",
       "  'svelte',\n",
       "  'ruby',\n",
       "  'express'],\n",
       " 'sync': ['google chat',\n",
       "  'rocketchat',\n",
       "  'zoom',\n",
       "  'unify',\n",
       "  'microsoft teams',\n",
       "  'wire',\n",
       "  'webex',\n",
       "  'twilio',\n",
       "  'ringcentral',\n",
       "  'mattermost',\n",
       "  'slack',\n",
       "  'symphony']}"
      ]
     },
     "execution_count": 17,
     "metadata": {},
     "output_type": "execute_result"
    }
   ],
   "source": [
    "df_technology = df['job_type_skills'].copy()\n",
    "\n",
    "# remove duplicates\n",
    "df_technology = df_technology.drop_duplicates()\n",
    "\n",
    "# remove NaN values\n",
    "df_technology = df_technology.dropna()\n",
    "\n",
    "# combine all dictionaries into one\n",
    "technology_dict = {}\n",
    "for row in df_technology:\n",
    "    row_dict = ast.literal_eval(row)  # convert string to dictionary\n",
    "    for key, value in row_dict.items():\n",
    "        if key in technology_dict:  # if key already exists in technology_dict, add value to existing value\n",
    "            technology_dict[key] += value\n",
    "        else:                       # if key does not exist in technology_dict, add key and value\n",
    "            technology_dict[key] = value\n",
    "\n",
    "# remove duplicates by converting values to set then back to list\n",
    "for key, value in technology_dict.items():\n",
    "    technology_dict[key] = list(set(value))\n",
    "\n",
    "technology_dict"
   ]
  },
  {
   "cell_type": "code",
   "execution_count": 18,
   "id": "4796d61b",
   "metadata": {},
   "outputs": [
    {
     "data": {
      "application/vnd.microsoft.datawrangler.viewer.v0+json": {
       "columns": [
        {
         "name": "index",
         "rawType": "int64",
         "type": "integer"
        },
        {
         "name": "technology",
         "rawType": "object",
         "type": "string"
        },
        {
         "name": "skills",
         "rawType": "object",
         "type": "string"
        }
       ],
       "ref": "2e5019e7-8646-4df6-a1c1-0716a42f9c80",
       "rows": [
        [
         "0",
         "analyst_tools",
         "nuix"
        ],
        [
         "0",
         "analyst_tools",
         "esquisse"
        ],
        [
         "0",
         "analyst_tools",
         "sheets"
        ],
        [
         "0",
         "analyst_tools",
         "microstrategy"
        ],
        [
         "0",
         "analyst_tools",
         "power bi"
        ],
        [
         "0",
         "analyst_tools",
         "sap"
        ],
        [
         "0",
         "analyst_tools",
         "word"
        ],
        [
         "0",
         "analyst_tools",
         "ssrs"
        ],
        [
         "0",
         "analyst_tools",
         "datarobot"
        ],
        [
         "0",
         "analyst_tools",
         "spreadsheet"
        ],
        [
         "0",
         "analyst_tools",
         "qlik"
        ],
        [
         "0",
         "analyst_tools",
         "msaccess"
        ],
        [
         "0",
         "analyst_tools",
         "sas"
        ],
        [
         "0",
         "analyst_tools",
         "dax"
        ],
        [
         "0",
         "analyst_tools",
         "spss"
        ],
        [
         "0",
         "analyst_tools",
         "cognos"
        ],
        [
         "0",
         "analyst_tools",
         "sharepoint"
        ],
        [
         "0",
         "analyst_tools",
         "outlook"
        ],
        [
         "0",
         "analyst_tools",
         "powerpoint"
        ],
        [
         "0",
         "analyst_tools",
         "ms access"
        ],
        [
         "0",
         "analyst_tools",
         "visio"
        ],
        [
         "0",
         "analyst_tools",
         "tableau"
        ],
        [
         "0",
         "analyst_tools",
         "excel"
        ],
        [
         "0",
         "analyst_tools",
         "splunk"
        ],
        [
         "0",
         "analyst_tools",
         "powerbi"
        ],
        [
         "0",
         "analyst_tools",
         "ssis"
        ],
        [
         "0",
         "analyst_tools",
         "looker"
        ],
        [
         "0",
         "analyst_tools",
         "alteryx"
        ],
        [
         "1",
         "programming",
         "haskell"
        ],
        [
         "1",
         "programming",
         "lua"
        ],
        [
         "1",
         "programming",
         "r"
        ],
        [
         "1",
         "programming",
         "go"
        ],
        [
         "1",
         "programming",
         "c++"
        ],
        [
         "1",
         "programming",
         "mongo"
        ],
        [
         "1",
         "programming",
         "golang"
        ],
        [
         "1",
         "programming",
         "crystal"
        ],
        [
         "1",
         "programming",
         "ocaml"
        ],
        [
         "1",
         "programming",
         "rust"
        ],
        [
         "1",
         "programming",
         "clojure"
        ],
        [
         "1",
         "programming",
         "javascript"
        ],
        [
         "1",
         "programming",
         "nosql"
        ],
        [
         "1",
         "programming",
         "c"
        ],
        [
         "1",
         "programming",
         "no-sql"
        ],
        [
         "1",
         "programming",
         "typescript"
        ],
        [
         "1",
         "programming",
         "scala"
        ],
        [
         "1",
         "programming",
         "sql"
        ],
        [
         "1",
         "programming",
         "powershell"
        ],
        [
         "1",
         "programming",
         "vba"
        ],
        [
         "1",
         "programming",
         "dart"
        ],
        [
         "1",
         "programming",
         "sas"
        ]
       ],
       "shape": {
        "columns": 2,
        "rows": 256
       }
      },
      "text/html": [
       "<div>\n",
       "<style scoped>\n",
       "    .dataframe tbody tr th:only-of-type {\n",
       "        vertical-align: middle;\n",
       "    }\n",
       "\n",
       "    .dataframe tbody tr th {\n",
       "        vertical-align: top;\n",
       "    }\n",
       "\n",
       "    .dataframe thead th {\n",
       "        text-align: right;\n",
       "    }\n",
       "</style>\n",
       "<table border=\"1\" class=\"dataframe\">\n",
       "  <thead>\n",
       "    <tr style=\"text-align: right;\">\n",
       "      <th></th>\n",
       "      <th>technology</th>\n",
       "      <th>skills</th>\n",
       "    </tr>\n",
       "  </thead>\n",
       "  <tbody>\n",
       "    <tr>\n",
       "      <th>0</th>\n",
       "      <td>analyst_tools</td>\n",
       "      <td>nuix</td>\n",
       "    </tr>\n",
       "    <tr>\n",
       "      <th>0</th>\n",
       "      <td>analyst_tools</td>\n",
       "      <td>esquisse</td>\n",
       "    </tr>\n",
       "    <tr>\n",
       "      <th>0</th>\n",
       "      <td>analyst_tools</td>\n",
       "      <td>sheets</td>\n",
       "    </tr>\n",
       "    <tr>\n",
       "      <th>0</th>\n",
       "      <td>analyst_tools</td>\n",
       "      <td>microstrategy</td>\n",
       "    </tr>\n",
       "    <tr>\n",
       "      <th>0</th>\n",
       "      <td>analyst_tools</td>\n",
       "      <td>power bi</td>\n",
       "    </tr>\n",
       "    <tr>\n",
       "      <th>...</th>\n",
       "      <td>...</td>\n",
       "      <td>...</td>\n",
       "    </tr>\n",
       "    <tr>\n",
       "      <th>9</th>\n",
       "      <td>sync</td>\n",
       "      <td>twilio</td>\n",
       "    </tr>\n",
       "    <tr>\n",
       "      <th>9</th>\n",
       "      <td>sync</td>\n",
       "      <td>ringcentral</td>\n",
       "    </tr>\n",
       "    <tr>\n",
       "      <th>9</th>\n",
       "      <td>sync</td>\n",
       "      <td>mattermost</td>\n",
       "    </tr>\n",
       "    <tr>\n",
       "      <th>9</th>\n",
       "      <td>sync</td>\n",
       "      <td>slack</td>\n",
       "    </tr>\n",
       "    <tr>\n",
       "      <th>9</th>\n",
       "      <td>sync</td>\n",
       "      <td>symphony</td>\n",
       "    </tr>\n",
       "  </tbody>\n",
       "</table>\n",
       "<p>256 rows × 2 columns</p>\n",
       "</div>"
      ],
      "text/plain": [
       "       technology         skills\n",
       "0   analyst_tools           nuix\n",
       "0   analyst_tools       esquisse\n",
       "0   analyst_tools         sheets\n",
       "0   analyst_tools  microstrategy\n",
       "0   analyst_tools       power bi\n",
       "..            ...            ...\n",
       "9            sync         twilio\n",
       "9            sync    ringcentral\n",
       "9            sync     mattermost\n",
       "9            sync          slack\n",
       "9            sync       symphony\n",
       "\n",
       "[256 rows x 2 columns]"
      ]
     },
     "execution_count": 18,
     "metadata": {},
     "output_type": "execute_result"
    }
   ],
   "source": [
    "# turn dictionary into dataframe\n",
    "df_technology = pd.DataFrame(list(technology_dict.items()), columns=['technology', 'skills'])\n",
    "\n",
    "df_technology = df_technology.explode('skills')\n",
    "\n",
    "df_technology"
   ]
  },
  {
   "cell_type": "code",
   "execution_count": 20,
   "id": "ff6ccb2f",
   "metadata": {},
   "outputs": [],
   "source": [
    "df_plot = df_DE_skills.merge(df_technology, left_on='job_skills', right_on='skills')"
   ]
  },
  {
   "cell_type": "code",
   "execution_count": 25,
   "id": "2a7d7095",
   "metadata": {},
   "outputs": [
    {
     "data": {
      "image/png": "[encoded data removed]",
      "text/plain": [
       "<Figure size 640x480 with 1 Axes>"
      ]
     },
     "metadata": {},
     "output_type": "display_data"
    }
   ],
   "source": [
    "sns.scatterplot(\n",
    "    data=df_plot,\n",
    "    x='skill_percent',\n",
    "    y='median_salary',\n",
    "    hue='technology',\n",
    ")\n",
    "\n",
    "sns.despine()\n",
    "sns.set_theme(style='ticks')\n",
    "\n",
    "# Prepare texts for adjustText\n",
    "texts = []\n",
    "for i, txt in enumerate(df_DE_skills.index):\n",
    "    texts.append(plt.text(df_DE_skills['skill_percent'].iloc[i], df_DE_skills['median_salary'].iloc[i], txt))\n",
    "\n",
    "# Adjust text to avoid overlap\n",
    "adjust_text(texts, arrowprops=dict(arrowstyle='->', color='gray'))\n",
    "\n",
    "# Set axis labels, title, and legend\n",
    "plt.xlabel('Percent of Data Analyst Jobs')\n",
    "plt.ylabel('Median Yearly Salary')\n",
    "plt.title('Most Optimal Skills for Data Analysts in the US')\n",
    "plt.legend(title='Technology')\n",
    "\n",
    "from matplotlib.ticker import PercentFormatter\n",
    "ax = plt.gca()\n",
    "ax.yaxis.set_major_formatter(plt.FuncFormatter(lambda y, pos: f'${int(y/1000)}K'))\n",
    "ax.xaxis.set_major_formatter(PercentFormatter(decimals=0))\n",
    "\n",
    "# Adjust layout and display plot \n",
    "plt.tight_layout()\n",
    "plt.show()"
   ]
  },
  {
   "cell_type": "code",
   "execution_count": null,
   "id": "90d8a31b",
   "metadata": {},
   "outputs": [],
   "source": []
  }
 ],
 "metadata": {
  "kernelspec": {
   "display_name": "Python (dataAnalysisPython)",
   "language": "python",
   "name": "dataanalysispython"
  },
  "language_info": {
   "codemirror_mode": {
    "name": "ipython",
    "version": 3
   },
   "file_extension": ".py",
   "mimetype": "text/x-python",
   "name": "python",
   "nbconvert_exporter": "python",
   "pygments_lexer": "ipython3",
   "version": "3.10.18"
  }
 },
 "nbformat": 4,
 "nbformat_minor": 5
}
